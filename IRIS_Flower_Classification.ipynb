{
 "cells": [
  {
   "cell_type": "code",
   "execution_count": 123,
   "metadata": {},
   "outputs": [],
   "source": [
    "#Importing all relevant libraries\n",
    "from sklearn import datasets\n",
    "from sklearn.model_selection import train_test_split\n",
    "from sklearn import tree\n",
    "from sklearn import linear_model\n",
    "from sklearn import metrics\n",
    "from sklearn import svm\n",
    "import matplotlib.pyplot as plt"
   ]
  },
  {
   "cell_type": "code",
   "execution_count": 124,
   "metadata": {},
   "outputs": [],
   "source": [
    "#Loading iris dataset\n",
    "data = datasets.load_iris()\n",
    "X = data.data\n",
    "y = data.target"
   ]
  },
  {
   "cell_type": "code",
   "execution_count": 125,
   "metadata": {},
   "outputs": [
    {
     "data": {
      "text/plain": [
       "<matplotlib.collections.PathCollection at 0x1c5df9a7ba8>"
      ]
     },
     "execution_count": 125,
     "metadata": {},
     "output_type": "execute_result"
    },
    {
     "data": {
      "image/png": "[encoded data removed]",
      "text/plain": [
       "<Figure size 432x288 with 4 Axes>"
      ]
     },
     "metadata": {
      "needs_background": "light"
     },
     "output_type": "display_data"
    }
   ],
   "source": [
    "#Plotting dependant variable against all independant variables\n",
    "plt.subplot(221)\n",
    "plt.scatter(X[:,0],y[:])\n",
    "plt.subplot(222)\n",
    "plt.scatter(X[:,1],y[:])\n",
    "plt.subplot(223)\n",
    "plt.scatter(X[:,2],y[:])\n",
    "plt.subplot(224)\n",
    "plt.scatter(X[:,3],y[:])\n",
    "\n"
   ]
  },
  {
   "cell_type": "code",
   "execution_count": 126,
   "metadata": {},
   "outputs": [
    {
     "name": "stdout",
     "output_type": "stream",
     "text": [
      "X_train :  [[4.9 3.6 1.4 0.1]\n",
      " [6.  2.9 4.5 1.5]\n",
      " [5.5 2.6 4.4 1.2]\n",
      " [4.8 3.  1.4 0.3]\n",
      " [5.4 3.9 1.3 0.4]]\n",
      "y_train :  [0 1 1 0 0]\n",
      "X_test :  [[5.8 2.8 5.1 2.4]\n",
      " [6.  2.2 4.  1. ]\n",
      " [5.5 4.2 1.4 0.2]\n",
      " [7.3 2.9 6.3 1.8]\n",
      " [5.  3.4 1.5 0.2]]\n",
      "y_test :  [2 1 0 2 0]\n"
     ]
    }
   ],
   "source": [
    "#Splitting dataset into training and test data\n",
    "X_train, X_test, y_train, y_test = train_test_split(X, y, test_size = 0.1, random_state = 0)\n",
    "print(\"X_train : \",X_train[0:5])\n",
    "print(\"y_train : \",y_train[0:5])\n",
    "print(\"X_test : \",X_test[0:5])\n",
    "print(\"y_test : \",y_test[0:5])"
   ]
  },
  {
   "cell_type": "code",
   "execution_count": 127,
   "metadata": {},
   "outputs": [],
   "source": [
    "#Training data set with Decision tree model\n",
    "model = tree.DecisionTreeClassifier()\n",
    "model.fit(X_train,y_train)\n",
    "y_pred = model.predict(X_test)"
   ]
  },
  {
   "cell_type": "code",
   "execution_count": 128,
   "metadata": {},
   "outputs": [],
   "source": [
    "#Training data set with SVM model\n",
    "model1 = svm.SVC(kernel='rbf',gamma = 'auto')\n",
    "model1.fit(X_train,y_train)\n",
    "y_pred1 = model1.predict(X_test)"
   ]
  },
  {
   "cell_type": "code",
   "execution_count": 129,
   "metadata": {},
   "outputs": [],
   "source": [
    "#Training data set with Logistic regression model\n",
    "model2 = linear_model.LogisticRegression(C=0.01,solver = 'lbfgs',multi_class='multinomial')\n",
    "model2.fit(X_train,y_train)\n",
    "y_pred2 = model2.predict(X_test)"
   ]
  },
  {
   "cell_type": "code",
   "execution_count": 130,
   "metadata": {},
   "outputs": [
    {
     "name": "stdout",
     "output_type": "stream",
     "text": [
      "Accuracy for Decison Tree model :  1.0\n",
      "Accuracy for SVM :  1.0\n",
      "Accuracy for Logistic Regression :  0.6\n"
     ]
    }
   ],
   "source": [
    "#Comparing accuracy for the three models\n",
    "print(\"Accuracy for Decison Tree model : \", metrics.accuracy_score(y_pred,y_test))\n",
    "print(\"Accuracy for SVM : \", metrics.accuracy_score(y_pred1,y_test))\n",
    "print(\"Accuracy for Logistic Regression : \", metrics.accuracy_score(y_pred2,y_test))"
   ]
  },
  {
   "cell_type": "code",
   "execution_count": 131,
   "metadata": {},
   "outputs": [
    {
     "name": "stdout",
     "output_type": "stream",
     "text": [
      "Confusion Matrix for Decison Tree model : \n",
      " [[3 0 0]\n",
      " [0 8 0]\n",
      " [0 0 4]]\n",
      "Confusion Matrix for SVM : \n",
      " [[3 0 0]\n",
      " [0 8 0]\n",
      " [0 0 4]]\n",
      "Confusion Matrix for Logistic Regression : \n",
      " [[3 0 0]\n",
      " [0 2 0]\n",
      " [0 6 4]]\n"
     ]
    }
   ],
   "source": [
    "#Comparing Confusion matrix for the three models\n",
    "print(\"Confusion Matrix for Decison Tree model : \\n\", metrics.confusion_matrix(y_pred,y_test))\n",
    "print(\"Confusion Matrix for SVM : \\n\", metrics.confusion_matrix(y_pred1,y_test))\n",
    "print(\"Confusion Matrix for Logistic Regression : \\n\", metrics.confusion_matrix(y_pred2,y_test))"
   ]
  },
  {
   "cell_type": "code",
   "execution_count": 132,
   "metadata": {},
   "outputs": [
    {
     "name": "stdout",
     "output_type": "stream",
     "text": [
      "Classification Report for Decison Tree model : \n",
      "               precision    recall  f1-score   support\n",
      "\n",
      "           0       1.00      1.00      1.00         3\n",
      "           1       1.00      1.00      1.00         8\n",
      "           2       1.00      1.00      1.00         4\n",
      "\n",
      "    accuracy                           1.00        15\n",
      "   macro avg       1.00      1.00      1.00        15\n",
      "weighted avg       1.00      1.00      1.00        15\n",
      "\n",
      "Classification Report for SVM : \n",
      "               precision    recall  f1-score   support\n",
      "\n",
      "           0       1.00      1.00      1.00         3\n",
      "           1       1.00      1.00      1.00         8\n",
      "           2       1.00      1.00      1.00         4\n",
      "\n",
      "    accuracy                           1.00        15\n",
      "   macro avg       1.00      1.00      1.00        15\n",
      "weighted avg       1.00      1.00      1.00        15\n",
      "\n",
      "Classification Report for Logistic Regression : \n",
      "               precision    recall  f1-score   support\n",
      "\n",
      "           0       1.00      1.00      1.00         3\n",
      "           1       0.25      1.00      0.40         2\n",
      "           2       1.00      0.40      0.57        10\n",
      "\n",
      "    accuracy                           0.60        15\n",
      "   macro avg       0.75      0.80      0.66        15\n",
      "weighted avg       0.90      0.60      0.63        15\n",
      "\n"
     ]
    }
   ],
   "source": [
    "#Comparing Classification report for the three models\n",
    "print(\"Classification Report for Decison Tree model : \\n\", metrics.classification_report(y_pred,y_test))\n",
    "print(\"Classification Report for SVM : \\n\", metrics.classification_report(y_pred1,y_test))\n",
    "print(\"Classification Report for Logistic Regression : \\n\", metrics.classification_report(y_pred2,y_test))"
   ]
  }
 ],
 "metadata": {
  "kernelspec": {
   "display_name": "Python 3",
   "language": "python",
   "name": "python3"
  },
  "language_info": {
   "codemirror_mode": {
    "name": "ipython",
    "version": 3
   },
   "file_extension": ".py",
   "mimetype": "text/x-python",
   "name": "python",
   "nbconvert_exporter": "python",
   "pygments_lexer": "ipython3",
   "version": "3.7.3"
  }
 },
 "nbformat": 4,
 "nbformat_minor": 2
}
